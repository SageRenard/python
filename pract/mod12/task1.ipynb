{
 "cells": [
  {
   "cell_type": "markdown",
   "metadata": {},
   "source": [
    " Выполнить задания:\n",
    "1.\tНормализовать базу данных относительно актеров. Выделить таблицу с актерами, а также таблицу многие-ко-многим `актер-фильм`. (Т.е. будут 3 таблицы: актеры, фильмы, актер-фильм. Сохранить новую бд как ‘task1.sqlite’.\n",
    "2.\tИсходя из этой таблицы, средствами SQL, вычислить наболее часто работающую друг с другом пару актеров.\n"
   ]
  },
  {
   "cell_type": "markdown",
   "metadata": {},
   "source": [
    "Добавим библиотеки"
   ]
  },
  {
   "cell_type": "code",
   "execution_count": 20,
   "metadata": {},
   "outputs": [],
   "source": [
    "import sqlite3\n",
    "import re"
   ]
  },
  {
   "cell_type": "markdown",
   "metadata": {},
   "source": [
    "Создадим базу данных и назовем ее 'task1.sqlite'\n",
    " \n",
    "Создадим курсор, который используется для выполнения операций базы данных, таких как выполнение SQL-запросов и извлечение данных."
   ]
  },
  {
   "cell_type": "code",
   "execution_count": 21,
   "metadata": {},
   "outputs": [],
   "source": [
    "conn = sqlite3.connect('task1.sqlite') \n",
    "cursor = conn.cursor()"
   ]
  },
  {
   "cell_type": "markdown",
   "metadata": {},
   "source": [
    "Создадим таблицы actors (для актеров), movies (фильмы), actor_movie (таблица-связь многие ко многим актер-фильм)"
   ]
  },
  {
   "cell_type": "code",
   "execution_count": null,
   "metadata": {},
   "outputs": [],
   "source": [
    "\n",
    "cursor.execute('''CREATE TABLE actors (\n",
    "                id INTEGER PRIMARY KEY,\n",
    "                name TEXT )\n",
    "''')\n"
   ]
  },
  {
   "cell_type": "code",
   "execution_count": null,
   "metadata": {},
   "outputs": [],
   "source": [
    "\n",
    "cursor.execute('''CREATE TABLE movies (\n",
    "                id INTEGER PRIMARY KEY,\n",
    "                title TEXT )\n",
    "''')\n",
    "\n",
    "cursor.execute('''CREATE TABLE actor_movie ( \n",
    "               actor_id INTEGER, \n",
    "               movie_id INTEGER, \n",
    "               FOREIGN KEY (actor_id) REFERENCES actors(id), \n",
    "               FOREIGN KEY (movie_id) REFERENCES movies(id) )\n",
    "''')\n",
    "\n",
    "conn.commit()\n",
    "conn.close()"
   ]
  },
  {
   "cell_type": "markdown",
   "metadata": {},
   "source": [
    "Достаем информацию"
   ]
  },
  {
   "cell_type": "code",
   "execution_count": 24,
   "metadata": {},
   "outputs": [],
   "source": [
    "\n",
    "connect_netflix = sqlite3.connect('netflix.sqlite')\n",
    "\n",
    "cursor_netflix = connect_netflix.cursor()\n",
    "\n",
    "cursor_netflix.execute('select title, \"cast\" from netflix_titles')\n",
    "\n",
    "data = cursor_netflix.fetchall()\n",
    "\n",
    "connect_netflix.close()"
   ]
  },
  {
   "cell_type": "markdown",
   "metadata": {},
   "source": [
    "Преобразуем в удобный вид"
   ]
  },
  {
   "cell_type": "code",
   "execution_count": 25,
   "metadata": {},
   "outputs": [],
   "source": [
    "\n",
    "data_new = []\n",
    "\n",
    "uniquely_actors = set()\n",
    ".\n",
    "for line in data:\n",
    "    movie, cast_str = line\n",
    "\n",
    "    cast = re.split(r' ,|, |,', cast_str)\n",
    "\n",
    "    uniquely_actors = uniquely_actors.union(set(cast))\n",
    "\n",
    "    data_new.append((movie, cast))"
   ]
  },
  {
   "cell_type": "markdown",
   "metadata": {},
   "source": [
    "Заполнение фильмами"
   ]
  },
  {
   "cell_type": "code",
   "execution_count": 26,
   "metadata": {},
   "outputs": [],
   "source": [
    "\n",
    "connect_movies = sqlite3.connect('task1.sqlite')\n",
    "\n",
    "cursor_movies = connect_movies.cursor()\n",
    "\n",
    "for line in data_new:\n",
    "    movie, actors = line\n",
    "     \n",
    "    cursor_movies.execute(\"INSERT INTO movies VALUES (NULL, ?)\", (movie,))\n",
    "\n",
    "connect_movies.commit()\n",
    "connect_movies.close()"
   ]
  },
  {
   "cell_type": "markdown",
   "metadata": {},
   "source": [
    "Заполение актерами"
   ]
  },
  {
   "cell_type": "code",
   "execution_count": 27,
   "metadata": {},
   "outputs": [],
   "source": [
    "\n",
    "connect_actors = sqlite3.connect('task1.sqlite')\n",
    "cursor_actors = connect_actors.cursor()\n",
    "\n",
    "for actor in uniquel_actors:\n",
    "    cursor_actors.execute(\"INSERT INTO actors VALUES (NULL, ?)\", (actor,))\n",
    "\n",
    "connect_actors.commit()\n",
    "connect_actors.close()"
   ]
  },
  {
   "cell_type": "markdown",
   "metadata": {},
   "source": [
    "Соединение актёр-фильм"
   ]
  },
  {
   "cell_type": "code",
   "execution_count": 28,
   "metadata": {},
   "outputs": [],
   "source": [
    "\n",
    "connect_task1 = sqlite3.connect('task1.sqlite')\n",
    "\n",
    "cursor_movies = connect_task1.cursor()\n",
    "cursor_actors = connect_task1.cursor()\n",
    "cursor_actor_movie = connect_task1.cursor()\n",
    "\n",
    "for i in data_new:\n",
    "\n",
    "    movie, actors = i\n",
    "    cursor_movies.execute('SELECT id FROM movies WHERE title = ?', (movie,))\n",
    "    movie_id = cursor_movies.fetchone()\n",
    "    for actor in actors:\n",
    "        cursor_actors.execute('SELECT id FROM actors WHERE name = ?', (actor,))\n",
    "        actor_id = cursor_actors.fetchone()\n",
    "\n",
    "        cursor_actor_movie.execute(\"INSERT INTO actor_movie (actor_id, movie_id) VALUES (?, ?)\", (actor_id[0], movie_id[0])) \n",
    "\n",
    "connect_task1.commit()\n",
    "\n",
    "connect_task1.close()"
   ]
  },
  {
   "cell_type": "markdown",
   "metadata": {},
   "source": [
    "Поиск актеров "
   ]
  },
  {
   "cell_type": "markdown",
   "metadata": {},
   "source": [
    "Этот код выполняет запрос к базе данных SQLite, чтобы найти пару актеров, которые чаще всего снимались вместе."
   ]
  },
  {
   "cell_type": "code",
   "execution_count": 29,
   "metadata": {},
   "outputs": [
    {
     "name": "stdout",
     "output_type": "stream",
     "text": [
      "Самая часто работающая друг с другом пара актеров:\n",
      "John Paul Tremblay и Robb Wells - сыграли вместе в 15 фильмах\n"
     ]
    }
   ],
   "source": [
    "\n",
    "conn = sqlite3.connect('task1.sqlite')\n",
    "\n",
    "cursor = conn.cursor()\n",
    "\n",
    "cursor.execute('''\n",
    "    SELECT a1.name AS actor1_name, a2.name AS actor2_name, COUNT(*) AS movies_together\n",
    "    FROM actor_movie am1\n",
    "    JOIN actor_movie am2 ON am1.movie_id = am2.movie_id AND am1.actor_id < am2.actor_id\n",
    "    JOIN actors a1 ON am1.actor_id = a1.id\n",
    "    JOIN actors a2 ON am2.actor_id = a2.id\n",
    "    GROUP BY actor1_name, actor2_name\n",
    "    ORDER BY movies_together DESC\n",
    "    LIMIT 1\n",
    "''')\n",
    "\n",
    "result = cursor.fetchone()\n",
    "\n",
    "print(\"Самая часто работающая друг с другом пара актеров:\")\n",
    "print(f\"{result[0]} и {result[1]} - сыграли вместе в {result[2]} фильмах\")\n",
    "\n",
    "conn.close()"
   ]
  }
 ],
 "metadata": {
  "kernelspec": {
   "display_name": "Python 3",
   "language": "python",
   "name": "python3"
  },
  "language_info": {
   "codemirror_mode": {
    "name": "ipython",
    "version": 3
   },
   "file_extension": ".py",
   "mimetype": "text/x-python",
   "name": "python",
   "nbconvert_exporter": "python",
   "pygments_lexer": "ipython3",
   "version": "3.11.4"
  }
 },
 "nbformat": 4,
 "nbformat_minor": 2
}
